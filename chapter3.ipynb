{
 "cells": [
  {
   "cell_type": "code",
   "execution_count": 0,
   "metadata": {
    "application/vnd.databricks.v1+cell": {
     "cellMetadata": {
      "byteLimit": 2048000,
      "implicitDf": true,
      "rowLimit": 10000
     },
     "inputWidgets": {},
     "nuid": "2f14d357-8846-4adf-9aca-74089cb8fafe",
     "showTitle": false,
     "tableResultSettingsMap": {},
     "title": ""
    }
   },
   "outputs": [],
   "source": [
    "%sql\n",
    "--CREATE DATABASE sales_db;\n",
    "--USE CATALOG hive_metastore; old legacy and not allowed anymore we need to use unity catalog with managed schema\n",
    "--CREATE SCHEMA custom_db LOCATION 'dbfs:/Shared/custom_db';\n",
    "--use database sales_db\n",
    "\n",
    "--CREATE SCHEMA custom_db\n",
    "--MANAGED LOCATION 'S3://databrickstestawsashok/custom_db'\n",
    "use sales_db;\n",
    "--CREATE TABLE managed_table (id INT, name STRING);\n",
    "--INSERT INTO managed_table VALUES (1, 'Alice');\n",
    "--select * from managed_table\n",
    "use custom_db;\n",
    "--CREATE TABLE external_table (id INT, name STRING)\n",
    "--insert into external_table values (1,'ashok');\n",
    "--insert into external_table values (2,'muna');\n",
    "\n",
    "--select * from external_table;\n",
    "--DESCRIBE EXTENDED managed_table;\n",
    "--DESCRIBE DATABASE EXTENDED custom_db;\n",
    "--CREATE TABLE new_table AS\n",
    "--SELECT id, name FROM managed_table;\n",
    "--select * from new_table;\n",
    "\n",
    "--CREATE TABLE table_copy_dclone DEEP CLONE managed_table;\n",
    "--CREATE TABLE table_copy_sclone SHALLOW CLONE external_table;\n",
    "--select * from table_copy_sclone;\n",
    "\n",
    "--select * from sales_db.table_copy_dclone;\n",
    "--DESCRIBE EXTENDED table_copy_dclone;\n",
    "--DESCRIBE EXTENDED table_copy;\n",
    "--SHOW TABLES;\n",
    "--SHOW TABLES IN sales_db;\n",
    "--SHOW TABLES IN custom_db;\n",
    "\n",
    "--CREATE VIEW vdefaultexternal AS SELECT * FROM external_table WHERE name = 'ashok';\n",
    "\n",
    "--CREATE TEMP VIEW temp_brands AS  SELECT * FROM external_table WHERE name = 'muna';\n",
    "select * from temp_brands;\n",
    "\n",
    "\n",
    "/*\n",
    "CREATE GLOBAL TEMP VIEW all_employee AS SELECT * FROM external_table\n",
    "[NOT_SUPPORTED_WITH_SERVERLESS] GLOBAL TEMPORARY VIEW is not supported on serverless compute. SQLSTATE: 0A000\n",
    "*/\n",
    "--SELECT * FROM cars WHERE year >= 2022;\n",
    "--SELECT * FROM global_temp.recent_cars;\n",
    "/*\n",
    "DROP TABLE managed_table; -- deletes metadata + data\n",
    "DROP TABLE external_table; -- deletes metadata only, keeps data files\n",
    "DROP VIEW tesla_cars;\n",
    "*/\n"
   ]
  }
 ],
 "metadata": {
  "application/vnd.databricks.v1+notebook": {
   "computePreferences": null,
   "dashboards": [],
   "environmentMetadata": {
    "base_environment": "",
    "environment_version": "3"
   },
   "inputWidgetPreferences": null,
   "language": "python",
   "notebookMetadata": {
    "mostRecentlyExecutedCommandWithImplicitDF": {
     "commandId": 8959714465329947,
     "dataframes": [
      "_sqldf"
     ]
    },
    "pythonIndentUnit": 4
   },
   "notebookName": "chapter3",
   "widgets": {}
  },
  "language_info": {
   "name": "python"
  }
 },
 "nbformat": 4,
 "nbformat_minor": 0
}
